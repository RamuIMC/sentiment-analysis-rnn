{
 "cells": [
  {
   "cell_type": "markdown",
   "metadata": {},
   "source": [
    "Sentiment Analysis with an RNN"
   ]
  },
  {
   "cell_type": "code",
   "execution_count": 1,
   "metadata": {},
   "outputs": [],
   "source": [
    "import numpy as np\n",
    "import tensorflow as tf"
   ]
  },
  {
   "cell_type": "code",
   "execution_count": 2,
   "metadata": {},
   "outputs": [],
   "source": [
    "with open('reviews.txt', 'r') as f:\n",
    "    reviews = f.read()\n",
    "with open('labels.txt', 'r') as f:\n",
    "    labels = f.read()"
   ]
  },
  {
   "cell_type": "code",
   "execution_count": 3,
   "metadata": {},
   "outputs": [
    {
     "data": {
      "text/plain": [
       "'bromwell high is a cartoon comedy . it ran at the same time as some other programs about school life  such as  teachers  . my   years in the teaching profession lead me to believe that bromwell high  s satire is much closer to reality than is  teachers  . the scramble to survive financially  the insightful students who can see right through their pathetic teachers  pomp  the pettiness of the whole situation  all remind me of the schools i knew and their students . when i saw the episode in which a student repeatedly tried to burn down the school  i immediately recalled . . . . . . . . . at . . . . . . . . . . high . a classic line inspector i  m here to sack one of your teachers . student welcome to bromwell high . i expect that many adults of my age think that bromwell high is far fetched . what a pity that it isn  t   \\nstory of a man who has unnatural feelings for a pig . starts out with a opening scene that is a terrific example of absurd comedy . a formal orchestra audience is turned into an insane  violent mob by the crazy chantings of it  s singers . unfortunately it stays absurd the whole time with no general narrative eventually making it just too off putting . even those from the era should be turned off . the cryptic dialogue would make shakespeare seem easy to a third grader . on a technical level it  s better than you might think with some good cinematography by future great vilmos zsigmond . future stars sally kirkland and frederic forrest can be seen briefly .  \\nhomelessness  or houselessness as george carlin stated  has been an issue for years but never a plan to help those on the street that were once considered human who did everything from going to school  work  or vote for the matter . most people think of the homeless as just a lost cause while worrying about things such as racism  the war on iraq  pressuring kids to succeed  technology  the elections  inflation  or worrying if they  ll be next to end up on the streets .  br    br   but what if y'"
      ]
     },
     "execution_count": 3,
     "metadata": {},
     "output_type": "execute_result"
    }
   ],
   "source": [
    "reviews[:2000]"
   ]
  },
  {
   "cell_type": "markdown",
   "metadata": {},
   "source": [
    "Data preprocessing"
   ]
  },
  {
   "cell_type": "code",
   "execution_count": 4,
   "metadata": {},
   "outputs": [],
   "source": [
    "from string import punctuation\n",
    "all_text = ''.join([c for c in reviews if c not in punctuation])\n",
    "reviews = all_text.split('\\n')\n",
    "\n",
    "all_text = ' '.join(reviews)\n",
    "words = all_text.split()"
   ]
  },
  {
   "cell_type": "code",
   "execution_count": 5,
   "metadata": {},
   "outputs": [
    {
     "data": {
      "text/plain": [
       "'bromwell high is a cartoon comedy  it ran at the same time as some other programs about school life  such as  teachers   my   years in the teaching profession lead me to believe that bromwell high  s satire is much closer to reality than is  teachers   the scramble to survive financially  the insightful students who can see right through their pathetic teachers  pomp  the pettiness of the whole situation  all remind me of the schools i knew and their students  when i saw the episode in which a student repeatedly tried to burn down the school  i immediately recalled          at           high  a classic line inspector i  m here to sack one of your teachers  student welcome to bromwell high  i expect that many adults of my age think that bromwell high is far fetched  what a pity that it isn  t    story of a man who has unnatural feelings for a pig  starts out with a opening scene that is a terrific example of absurd comedy  a formal orchestra audience is turned into an insane  violent mob by the crazy chantings of it  s singers  unfortunately it stays absurd the whole time with no general narrative eventually making it just too off putting  even those from the era should be turned off  the cryptic dialogue would make shakespeare seem easy to a third grader  on a technical level it  s better than you might think with some good cinematography by future great vilmos zsigmond  future stars sally kirkland and frederic forrest can be seen briefly    homelessness  or houselessness as george carlin stated  has been an issue for years but never a plan to help those on the street that were once considered human who did everything from going to school  work  or vote for the matter  most people think of the homeless as just a lost cause while worrying about things such as racism  the war on iraq  pressuring kids to succeed  technology  the elections  inflation  or worrying if they  ll be next to end up on the streets   br    br   but what if you were given a bet to live on the st'"
      ]
     },
     "execution_count": 5,
     "metadata": {},
     "output_type": "execute_result"
    }
   ],
   "source": [
    "all_text[:2000]"
   ]
  },
  {
   "cell_type": "code",
   "execution_count": 6,
   "metadata": {},
   "outputs": [
    {
     "data": {
      "text/plain": [
       "['bromwell',\n",
       " 'high',\n",
       " 'is',\n",
       " 'a',\n",
       " 'cartoon',\n",
       " 'comedy',\n",
       " 'it',\n",
       " 'ran',\n",
       " 'at',\n",
       " 'the',\n",
       " 'same',\n",
       " 'time',\n",
       " 'as',\n",
       " 'some',\n",
       " 'other',\n",
       " 'programs',\n",
       " 'about',\n",
       " 'school',\n",
       " 'life',\n",
       " 'such',\n",
       " 'as',\n",
       " 'teachers',\n",
       " 'my',\n",
       " 'years',\n",
       " 'in',\n",
       " 'the',\n",
       " 'teaching',\n",
       " 'profession',\n",
       " 'lead',\n",
       " 'me',\n",
       " 'to',\n",
       " 'believe',\n",
       " 'that',\n",
       " 'bromwell',\n",
       " 'high',\n",
       " 's',\n",
       " 'satire',\n",
       " 'is',\n",
       " 'much',\n",
       " 'closer',\n",
       " 'to',\n",
       " 'reality',\n",
       " 'than',\n",
       " 'is',\n",
       " 'teachers',\n",
       " 'the',\n",
       " 'scramble',\n",
       " 'to',\n",
       " 'survive',\n",
       " 'financially',\n",
       " 'the',\n",
       " 'insightful',\n",
       " 'students',\n",
       " 'who',\n",
       " 'can',\n",
       " 'see',\n",
       " 'right',\n",
       " 'through',\n",
       " 'their',\n",
       " 'pathetic',\n",
       " 'teachers',\n",
       " 'pomp',\n",
       " 'the',\n",
       " 'pettiness',\n",
       " 'of',\n",
       " 'the',\n",
       " 'whole',\n",
       " 'situation',\n",
       " 'all',\n",
       " 'remind',\n",
       " 'me',\n",
       " 'of',\n",
       " 'the',\n",
       " 'schools',\n",
       " 'i',\n",
       " 'knew',\n",
       " 'and',\n",
       " 'their',\n",
       " 'students',\n",
       " 'when',\n",
       " 'i',\n",
       " 'saw',\n",
       " 'the',\n",
       " 'episode',\n",
       " 'in',\n",
       " 'which',\n",
       " 'a',\n",
       " 'student',\n",
       " 'repeatedly',\n",
       " 'tried',\n",
       " 'to',\n",
       " 'burn',\n",
       " 'down',\n",
       " 'the',\n",
       " 'school',\n",
       " 'i',\n",
       " 'immediately',\n",
       " 'recalled',\n",
       " 'at',\n",
       " 'high']"
      ]
     },
     "execution_count": 6,
     "metadata": {},
     "output_type": "execute_result"
    }
   ],
   "source": [
    "words[:100]"
   ]
  },
  {
   "cell_type": "markdown",
   "metadata": {},
   "source": [
    "Encoding the words"
   ]
  },
  {
   "cell_type": "code",
   "execution_count": 7,
   "metadata": {},
   "outputs": [],
   "source": [
    "from collections import Counter\n",
    "counts = Counter(words)\n",
    "vocab = sorted(counts, key=counts.get, reverse=True)\n",
    "vocab_to_int = {word: ii for ii, word in enumerate(vocab, 1)}\n",
    "\n",
    "reviews_ints = []\n",
    "for each in reviews:\n",
    "    reviews_ints.append([vocab_to_int[word] for word in each.split()])"
   ]
  },
  {
   "cell_type": "markdown",
   "metadata": {},
   "source": [
    "Encoding the labels"
   ]
  },
  {
   "cell_type": "code",
   "execution_count": 8,
   "metadata": {},
   "outputs": [],
   "source": [
    "labels = labels.split('\\n')\n",
    "labels = np.array([1 if each == 'positive' else 0 for each in labels])"
   ]
  },
  {
   "cell_type": "code",
   "execution_count": 9,
   "metadata": {},
   "outputs": [
    {
     "name": "stdout",
     "output_type": "stream",
     "text": [
      "Zero-length reviews: 1\n",
      "Maximum review length: 2514\n"
     ]
    }
   ],
   "source": [
    "review_lens = Counter([len(x) for x in reviews_ints])\n",
    "print(\"Zero-length reviews: {}\".format(review_lens[0]))\n",
    "print(\"Maximum review length: {}\".format(max(review_lens)))"
   ]
  },
  {
   "cell_type": "code",
   "execution_count": 10,
   "metadata": {},
   "outputs": [
    {
     "data": {
      "text/plain": [
       "25000"
      ]
     },
     "execution_count": 10,
     "metadata": {},
     "output_type": "execute_result"
    }
   ],
   "source": [
    "non_zero_idx = [ii for ii, review in enumerate(reviews_ints) if len(review) != 0]\n",
    "len(non_zero_idx)"
   ]
  },
  {
   "cell_type": "code",
   "execution_count": 11,
   "metadata": {},
   "outputs": [
    {
     "data": {
      "text/plain": [
       "[]"
      ]
     },
     "execution_count": 11,
     "metadata": {},
     "output_type": "execute_result"
    }
   ],
   "source": [
    "reviews_ints[-1]"
   ]
  },
  {
   "cell_type": "code",
   "execution_count": 12,
   "metadata": {},
   "outputs": [],
   "source": [
    "reviews_ints = [reviews_ints[ii] for ii in non_zero_idx]\n",
    "labels = np.array([labels[ii] for ii in non_zero_idx])"
   ]
  },
  {
   "cell_type": "code",
   "execution_count": 13,
   "metadata": {},
   "outputs": [],
   "source": [
    "seq_len = 200\n",
    "features = np.zeros((len(reviews_ints), seq_len), dtype=int)\n",
    "for i, row in enumerate(reviews_ints):\n",
    "    features[i, -len(row):] = np.array(row)[:seq_len]"
   ]
  },
  {
   "cell_type": "code",
   "execution_count": 14,
   "metadata": {},
   "outputs": [
    {
     "data": {
      "text/plain": [
       "array([[    0,     0,     0,     0,     0,     0,     0,     0,     0,\n",
       "            0,     0,     0,     0,     0,     0,     0,     0,     0,\n",
       "            0,     0,     0,     0,     0,     0,     0,     0,     0,\n",
       "            0,     0,     0,     0,     0,     0,     0,     0,     0,\n",
       "            0,     0,     0,     0,     0,     0,     0,     0,     0,\n",
       "            0,     0,     0,     0,     0,     0,     0,     0,     0,\n",
       "            0,     0,     0,     0,     0,     0, 21033,   308,     6,\n",
       "            3,  1050,   207,     8,  2143,    32,     1,   171,    57,\n",
       "           15,    49,    81,  5836,    44,   382,   110,   140,    15,\n",
       "         5236,    60,   154,     9,     1,  4993,  5886,   475,    71,\n",
       "            5,   260,    12, 21033,   308,    13,  1978,     6,    74,\n",
       "         2401],\n",
       "       [    0,     0,     0,     0,     0,     0,     0,     0,     0,\n",
       "            0,     0,     0,     0,     0,     0,     0,     0,     0,\n",
       "            0,     0,     0,     0,     0,     0,     0,     0,     0,\n",
       "            0,     0,     0,     0,     0,     0,     0,     0,     0,\n",
       "            0,     0,     0,     0,     0,     0,     0,     0,     0,\n",
       "            0,     0,     0,     0,     0,     0,     0,     0,     0,\n",
       "            0,     0,     0,     0,     0,     0,     0,     0,     0,\n",
       "            0,     0,     0,     0,     0,     0,     0,     0,     0,\n",
       "            0,     0,     0,     0,     0,     0,     0,     0,     0,\n",
       "            0,     0,     0,     0,     0,    63,     4,     3,   125,\n",
       "           36,    47,  7507,  1397,    16,     3,  4182,   505,    45,\n",
       "           17],\n",
       "       [23193,    42, 47007,    15,   706, 17418,  3394,    47,    77,\n",
       "           35,  1823,    16,   154,    19,   114,     3,  1306,     5,\n",
       "          336,   147,    22,     1,   857,    12,    70,   281,  1170,\n",
       "          399,    36,   120,   283,    38,   169,     5,   382,   158,\n",
       "           42,  2277,    16,     1,   541,    90,    78,   102,     4,\n",
       "            1,  3257,    15,    43,     3,   407,  1069,   136,  8173,\n",
       "           44,   182,   140,    15,  3054,     1,   320,    22,  4839,\n",
       "        26616,   346,     5,  3099,  2094,     1, 19693, 18373,    42,\n",
       "         8173,    46,    33,   236,    29,   370,     5,   130,    56,\n",
       "           22,     1,  1928,     7,     7,    19,    48,    46,    21,\n",
       "           70,   344,     3,  2101,     5,   408,    22,     1,  1928,\n",
       "           16],\n",
       "       [ 4508,   505,    15,     3,  3352,   162,  8411,  1654,     6,\n",
       "         4827,    56,    17,  4532,  5625,   140, 11959,     5,   996,\n",
       "         4953,  2935,  4478,   566,  1199,    36,     6,  1519,    96,\n",
       "            3,   744,     4, 26345,    13,     5,    27,  3465,     9,\n",
       "        10684,     4,     8,   111,  3013,     5,     1,  1028,    15,\n",
       "            3,  4398,    82,    22,  2050,     6,  4478,   538,  2777,\n",
       "         7099, 45709,    41,   463,     1,  8411, 50508,   302,   123,\n",
       "           15,  4234,    19,  1669,   923,     1,  1654,     6,  6129,\n",
       "        19995,    34,     1,   980,  1757, 22639,   646, 25638,    27,\n",
       "          106, 11963,    13, 14445, 15509, 18597,  2462,   466, 22199,\n",
       "           36,  3275,     1,  6425,  1020,    45,    17,  2699,  2501,\n",
       "           33],\n",
       "       [    0,     0,     0,     0,     0,     0,     0,     0,     0,\n",
       "            0,     0,     0,     0,     0,     0,     0,     0,     0,\n",
       "            0,     0,     0,     0,     0,     0,     0,     0,     0,\n",
       "            0,     0,     0,     0,     0,     0,     0,     0,     0,\n",
       "            0,     0,     0,     0,     0,     0,     0,     0,     0,\n",
       "            0,     0,     0,     0,     0,   520,   119,   113,    34,\n",
       "        16566,  1818,  3755,   117,   885, 21999,   721,    10,    28,\n",
       "          124,   108,     2,   115,   137,     9,  1627,  7749,    26,\n",
       "          330,     5,   589,     1,  6159,    22,   386,     6,     3,\n",
       "          349,    15,    50,    15,   231,     9,  7479, 11716,     1,\n",
       "          191,    22,  9075,     6,    82,   881,   101,   111,  3596,\n",
       "            4],\n",
       "       [    0,     0,     0,     0,     0,     0,     0,     0,     0,\n",
       "            0,     0,     0,     0,     0,     0,     0,     0,     0,\n",
       "            0,     0,     0,     0,     0,     0,     0,     0,     0,\n",
       "            0,     0,     0,     0,     0,     0,     0,     0,     0,\n",
       "            0,     0,     0,     0,     0,     0,     0,     0,     0,\n",
       "            0,     0,     0,     0,     0,     0,     0,     0,     0,\n",
       "           11,    20,  3661,   141,    10,   423,    23,   272,    60,\n",
       "         4362,    22,    32,    84,  3300,    22,     1,   172,     4,\n",
       "            1,   953,   507,    11,  4985,  5382,     5,   574,     4,\n",
       "         1155,    54,    53,  5316,     1,   261,    17,    41,   953,\n",
       "          125,    59,     1,   712,   137,   379,   627,    15,   111,\n",
       "         1513],\n",
       "       [    0,     0,     0,     0,     0,     0,     0,     0,     0,\n",
       "            0,     0,     0,     0,     0,     0,     0,     0,     0,\n",
       "            0,     0,     0,     0,     0,     0,     0,     0,     0,\n",
       "            0,     0,     0,     0,     0,     0,     0,     0,     0,\n",
       "            0,     0,     0,     0,     0,     0,     0,     0,     0,\n",
       "            0,     0,     0,     0,     0,     0,     0,     0,     0,\n",
       "            0,     0,     0,     0,     0,     0,     0,     0,     0,\n",
       "            0,     0,     0,     0,     0,     0,     0,     0,     0,\n",
       "            0,     0,     0,     0,    11,     6,   693,     1,    90,\n",
       "         2163,    20, 11870,     1,  2820,  5234,   249,    92,  3008,\n",
       "            8,   126,    24,   200,     3,   803,   634,     4, 23193,\n",
       "         1001],\n",
       "       [    0,     0,     0,     0,     0,     0,     0,     0,     0,\n",
       "            0,     0,     0,     0,     0,     0,     0,     0,     0,\n",
       "            0,     0,     0,     0,     0,     0,     0,     0,     0,\n",
       "            0,     0,     0,     0,     0,     0,     0,     0,     0,\n",
       "            0,     0,     0,     0,     0,     0,     0,     0,     0,\n",
       "            0,     0,   786,   295,    10,   122,    11,     6,   418,\n",
       "            5,    29,    35,   482,    20,    19,  1283,    33,   142,\n",
       "           28,  2657,    45,  1841,    32,     1,  2788,    37,    78,\n",
       "           97,  2443,    67,  3951,    45,     2,    24,   105,   256,\n",
       "            1,   134,  1575,     2, 12766,   451,    14,   319,    11,\n",
       "           63,     6,    98,  1322,     5,   105,     1,  3773,     4,\n",
       "            3],\n",
       "       [    0,     0,     0,     0,     0,     0,     0,     0,     0,\n",
       "            0,     0,     0,     0,     0,     0,     0,     0,     0,\n",
       "            0,     0,     0,     0,     0,     0,     0,     0,     0,\n",
       "            0,     0,     0,     0,     0,     0,     0,     0,     0,\n",
       "            0,     0,     0,     0,     0,     0,     0,     0,     0,\n",
       "            0,     0,     0,     0,     0,     0,     0,     0,     0,\n",
       "            0,     0,     0,     0,     0,     0,     0,     0,     0,\n",
       "            0,     0,     0,     0,     0,     0,     0,     0,     0,\n",
       "            0,     0,     0,     0,     0,     0,     0,    11,     6,\n",
       "           24,     1,   779,  3692,  2820,    20,     8,    14,    74,\n",
       "          325,  2740,    73,    90,     4,    27,    99,     2,   165,\n",
       "           68],\n",
       "       [   54,    10,    14,   116,    60,   798,   552,    71,   364,\n",
       "            5,     1,   731,     5,    66,  8082,     8,    14,    30,\n",
       "            4,   109,    99,    10,   293,    17,    60,   798,    19,\n",
       "           11,    14,     1,    64,    30,    69,  2504,    45,     4,\n",
       "          234,    93,    10,    68,   114,   108,  8082,   363,    43,\n",
       "         1009,     2,    10,    97,    28,  1432,    45,     1,   357,\n",
       "            4,    60,   110,   205,     8,    48,     3,  1930, 10902,\n",
       "            2,  2130,   354,   412,     4,    13,  6651,     2,  2978,\n",
       "         5148,  2132,  1367,     6,    30,     4,    60,   502,   876,\n",
       "           19,  8082,     6,    34,   227,     1,   247,   412,     4,\n",
       "          582,     4,    27,   599,     9,     1, 13823,   397,     4,\n",
       "        14285]])"
      ]
     },
     "execution_count": 14,
     "metadata": {},
     "output_type": "execute_result"
    }
   ],
   "source": [
    "features[:10,:100]"
   ]
  },
  {
   "cell_type": "markdown",
   "metadata": {},
   "source": [
    "# Training, Validation, Test"
   ]
  },
  {
   "cell_type": "code",
   "execution_count": 15,
   "metadata": {},
   "outputs": [
    {
     "name": "stdout",
     "output_type": "stream",
     "text": [
      "\t\t\tFeature Shapes:\n",
      "Train set: \t\t(20000, 200) \n",
      "Validation set: \t(2500, 200) \n",
      "Test set: \t\t(2500, 200)\n"
     ]
    }
   ],
   "source": [
    "split_frac = 0.8\n",
    "split_idx = int(len(features)*0.8)\n",
    "train_x, val_x = features[:split_idx], features[split_idx:]\n",
    "train_y, val_y = labels[:split_idx], labels[split_idx:]\n",
    "\n",
    "test_idx = int(len(val_x)*0.5)\n",
    "val_x, test_x = val_x[:test_idx], val_x[test_idx:]\n",
    "val_y, test_y = val_y[:test_idx], val_y[test_idx:]\n",
    "\n",
    "print(\"\\t\\t\\tFeature Shapes:\")\n",
    "print(\"Train set: \\t\\t{}\".format(train_x.shape), \n",
    "      \"\\nValidation set: \\t{}\".format(val_x.shape),\n",
    "      \"\\nTest set: \\t\\t{}\".format(test_x.shape))"
   ]
  },
  {
   "cell_type": "markdown",
   "metadata": {},
   "source": [
    "# Build the graph"
   ]
  },
  {
   "cell_type": "code",
   "execution_count": 16,
   "metadata": {},
   "outputs": [],
   "source": [
    "lstm_size = 256\n",
    "lstm_layers = 1\n",
    "batch_size = 500\n",
    "learning_rate = 0.001"
   ]
  },
  {
   "cell_type": "code",
   "execution_count": 17,
   "metadata": {},
   "outputs": [],
   "source": [
    "n_words = len(vocab_to_int) + 1 # Adding 1 because we use 0's for padding, dictionary started at 1\n",
    "\n",
    "# Create the graph object\n",
    "graph = tf.Graph()\n",
    "# Add nodes to the graph\n",
    "with graph.as_default():\n",
    "    inputs_ = tf.placeholder(tf.int32, [None, None], name='inputs')\n",
    "    labels_ = tf.placeholder(tf.int32, [None, None], name='labels')\n",
    "    keep_prob = tf.placeholder(tf.float32, name='keep_prob')"
   ]
  },
  {
   "cell_type": "markdown",
   "metadata": {},
   "source": [
    "Embedding"
   ]
  },
  {
   "cell_type": "code",
   "execution_count": 18,
   "metadata": {},
   "outputs": [],
   "source": [
    "# Size of the embedding vectors (number of units in the embedding layer)\n",
    "embed_size = 300 \n",
    "\n",
    "with graph.as_default():\n",
    "    embedding = tf.Variable(tf.random_uniform((n_words, embed_size), -1, 1))\n",
    "    embed = tf.nn.embedding_lookup(embedding, inputs_)"
   ]
  },
  {
   "cell_type": "markdown",
   "metadata": {},
   "source": [
    "# LSTM cell"
   ]
  },
  {
   "cell_type": "code",
   "execution_count": 19,
   "metadata": {},
   "outputs": [],
   "source": [
    "with graph.as_default():\n",
    "    # Your basic LSTM cell\n",
    "    lstm = tf.contrib.rnn.BasicLSTMCell(lstm_size)\n",
    "    \n",
    "    # Add dropout to the cell\n",
    "    drop = tf.contrib.rnn.DropoutWrapper(lstm, output_keep_prob=keep_prob)\n",
    "    \n",
    "    # Stack up multiple LSTM layers, for deep learning\n",
    "    cell = tf.contrib.rnn.MultiRNNCell([drop] * lstm_layers)\n",
    "    \n",
    "    # Getting an initial state of all zeros\n",
    "    initial_state = cell.zero_state(batch_size, tf.float32)"
   ]
  },
  {
   "cell_type": "markdown",
   "metadata": {},
   "source": [
    "RNN forward pass"
   ]
  },
  {
   "cell_type": "code",
   "execution_count": 20,
   "metadata": {},
   "outputs": [],
   "source": [
    "with graph.as_default():\n",
    "    outputs, final_state = tf.nn.dynamic_rnn(cell, embed,\n",
    "                                             initial_state=initial_state)"
   ]
  },
  {
   "cell_type": "markdown",
   "metadata": {},
   "source": [
    "Output"
   ]
  },
  {
   "cell_type": "code",
   "execution_count": 21,
   "metadata": {},
   "outputs": [],
   "source": [
    "with graph.as_default():\n",
    "    predictions = tf.contrib.layers.fully_connected(outputs[:, -1], 1, activation_fn=tf.sigmoid)\n",
    "    cost = tf.losses.mean_squared_error(labels_, predictions)\n",
    "    \n",
    "    optimizer = tf.train.AdamOptimizer(learning_rate).minimize(cost)"
   ]
  },
  {
   "cell_type": "markdown",
   "metadata": {},
   "source": [
    "Validation accuracy"
   ]
  },
  {
   "cell_type": "code",
   "execution_count": 22,
   "metadata": {},
   "outputs": [],
   "source": [
    "with graph.as_default():\n",
    "    correct_pred = tf.equal(tf.cast(tf.round(predictions), tf.int32), labels_)\n",
    "    accuracy = tf.reduce_mean(tf.cast(correct_pred, tf.float32))"
   ]
  },
  {
   "cell_type": "markdown",
   "metadata": {},
   "source": [
    "Batching"
   ]
  },
  {
   "cell_type": "code",
   "execution_count": 23,
   "metadata": {},
   "outputs": [],
   "source": [
    "def get_batches(x, y, batch_size=100):\n",
    "    \n",
    "    n_batches = len(x)//batch_size\n",
    "    x, y = x[:n_batches*batch_size], y[:n_batches*batch_size]\n",
    "    for ii in range(0, len(x), batch_size):\n",
    "        yield x[ii:ii+batch_size], y[ii:ii+batch_size]"
   ]
  },
  {
   "cell_type": "markdown",
   "metadata": {},
   "source": [
    "Training"
   ]
  },
  {
   "cell_type": "code",
   "execution_count": 24,
   "metadata": {},
   "outputs": [
    {
     "name": "stdout",
     "output_type": "stream",
     "text": [
      "Epoch: 0/10 Iteration: 5 Train loss: 0.242\n",
      "Epoch: 0/10 Iteration: 10 Train loss: 0.237\n",
      "Epoch: 0/10 Iteration: 15 Train loss: 0.257\n",
      "Epoch: 0/10 Iteration: 20 Train loss: 0.226\n",
      "Epoch: 0/10 Iteration: 25 Train loss: 0.218\n",
      "Val acc: 0.634\n",
      "Epoch: 0/10 Iteration: 30 Train loss: 0.215\n",
      "Epoch: 0/10 Iteration: 35 Train loss: 0.163\n",
      "Epoch: 0/10 Iteration: 40 Train loss: 0.208\n",
      "Epoch: 1/10 Iteration: 45 Train loss: 0.154\n",
      "Epoch: 1/10 Iteration: 50 Train loss: 0.220\n",
      "Val acc: 0.736\n",
      "Epoch: 1/10 Iteration: 55 Train loss: 0.180\n",
      "Epoch: 1/10 Iteration: 60 Train loss: 0.176\n",
      "Epoch: 1/10 Iteration: 65 Train loss: 0.160\n",
      "Epoch: 1/10 Iteration: 70 Train loss: 0.186\n",
      "Epoch: 1/10 Iteration: 75 Train loss: 0.177\n",
      "Val acc: 0.705\n",
      "Epoch: 1/10 Iteration: 80 Train loss: 0.172\n",
      "Epoch: 2/10 Iteration: 85 Train loss: 0.121\n",
      "Epoch: 2/10 Iteration: 90 Train loss: 0.178\n",
      "Epoch: 2/10 Iteration: 95 Train loss: 0.177\n",
      "Epoch: 2/10 Iteration: 100 Train loss: 0.173\n",
      "Val acc: 0.719\n",
      "Epoch: 2/10 Iteration: 105 Train loss: 0.151\n",
      "Epoch: 2/10 Iteration: 110 Train loss: 0.142\n",
      "Epoch: 2/10 Iteration: 115 Train loss: 0.118\n",
      "Epoch: 2/10 Iteration: 120 Train loss: 0.146\n",
      "Epoch: 3/10 Iteration: 125 Train loss: 0.102\n",
      "Val acc: 0.810\n",
      "Epoch: 3/10 Iteration: 130 Train loss: 0.152\n",
      "Epoch: 3/10 Iteration: 135 Train loss: 0.160\n",
      "Epoch: 3/10 Iteration: 140 Train loss: 0.156\n",
      "Epoch: 3/10 Iteration: 145 Train loss: 0.131\n",
      "Epoch: 3/10 Iteration: 150 Train loss: 0.129\n",
      "Val acc: 0.782\n",
      "Epoch: 3/10 Iteration: 155 Train loss: 0.123\n",
      "Epoch: 3/10 Iteration: 160 Train loss: 0.219\n",
      "Epoch: 4/10 Iteration: 165 Train loss: 0.130\n",
      "Epoch: 4/10 Iteration: 170 Train loss: 0.130\n",
      "Epoch: 4/10 Iteration: 175 Train loss: 0.118\n",
      "Val acc: 0.791\n",
      "Epoch: 4/10 Iteration: 180 Train loss: 0.132\n",
      "Epoch: 4/10 Iteration: 185 Train loss: 0.123\n",
      "Epoch: 4/10 Iteration: 190 Train loss: 0.106\n",
      "Epoch: 4/10 Iteration: 195 Train loss: 0.105\n",
      "Epoch: 4/10 Iteration: 200 Train loss: 0.122\n",
      "Val acc: 0.810\n",
      "Epoch: 5/10 Iteration: 205 Train loss: 0.282\n",
      "Epoch: 5/10 Iteration: 210 Train loss: 0.350\n",
      "Epoch: 5/10 Iteration: 215 Train loss: 0.229\n",
      "Epoch: 5/10 Iteration: 220 Train loss: 0.239\n",
      "Epoch: 5/10 Iteration: 225 Train loss: 0.179\n",
      "Val acc: 0.691\n",
      "Epoch: 5/10 Iteration: 230 Train loss: 0.155\n",
      "Epoch: 5/10 Iteration: 235 Train loss: 0.132\n",
      "Epoch: 5/10 Iteration: 240 Train loss: 0.170\n",
      "Epoch: 6/10 Iteration: 245 Train loss: 0.129\n",
      "Epoch: 6/10 Iteration: 250 Train loss: 0.161\n",
      "Val acc: 0.746\n",
      "Epoch: 6/10 Iteration: 255 Train loss: 0.134\n",
      "Epoch: 6/10 Iteration: 260 Train loss: 0.138\n",
      "Epoch: 6/10 Iteration: 265 Train loss: 0.245\n",
      "Epoch: 6/10 Iteration: 270 Train loss: 0.194\n",
      "Epoch: 6/10 Iteration: 275 Train loss: 0.143\n",
      "Val acc: 0.712\n",
      "Epoch: 6/10 Iteration: 280 Train loss: 0.176\n",
      "Epoch: 7/10 Iteration: 285 Train loss: 0.165\n",
      "Epoch: 7/10 Iteration: 290 Train loss: 0.153\n",
      "Epoch: 7/10 Iteration: 295 Train loss: 0.151\n",
      "Epoch: 7/10 Iteration: 300 Train loss: 0.134\n",
      "Val acc: 0.764\n",
      "Epoch: 7/10 Iteration: 305 Train loss: 0.132\n",
      "Epoch: 7/10 Iteration: 310 Train loss: 0.152\n",
      "Epoch: 7/10 Iteration: 315 Train loss: 0.123\n",
      "Epoch: 7/10 Iteration: 320 Train loss: 0.152\n",
      "Epoch: 8/10 Iteration: 325 Train loss: 0.118\n",
      "Val acc: 0.774\n",
      "Epoch: 8/10 Iteration: 330 Train loss: 0.205\n",
      "Epoch: 8/10 Iteration: 335 Train loss: 0.218\n",
      "Epoch: 8/10 Iteration: 340 Train loss: 0.138\n",
      "Epoch: 8/10 Iteration: 345 Train loss: 0.152\n",
      "Epoch: 8/10 Iteration: 350 Train loss: 0.151\n",
      "Val acc: 0.737\n",
      "Epoch: 8/10 Iteration: 355 Train loss: 0.129\n",
      "Epoch: 8/10 Iteration: 360 Train loss: 0.132\n",
      "Epoch: 9/10 Iteration: 365 Train loss: 0.110\n",
      "Epoch: 9/10 Iteration: 370 Train loss: 0.120\n",
      "Epoch: 9/10 Iteration: 375 Train loss: 0.142\n",
      "Val acc: 0.784\n",
      "Epoch: 9/10 Iteration: 380 Train loss: 0.124\n",
      "Epoch: 9/10 Iteration: 385 Train loss: 0.124\n",
      "Epoch: 9/10 Iteration: 390 Train loss: 0.110\n",
      "Epoch: 9/10 Iteration: 395 Train loss: 0.093\n",
      "Epoch: 9/10 Iteration: 400 Train loss: 0.105\n",
      "Val acc: 0.774\n"
     ]
    }
   ],
   "source": [
    "epochs = 10\n",
    "\n",
    "with graph.as_default():\n",
    "    saver = tf.train.Saver()\n",
    "\n",
    "with tf.Session(graph=graph) as sess:\n",
    "    sess.run(tf.global_variables_initializer())\n",
    "    iteration = 1\n",
    "    for e in range(epochs):\n",
    "        state = sess.run(initial_state)\n",
    "        \n",
    "        for ii, (x, y) in enumerate(get_batches(train_x, train_y, batch_size), 1):\n",
    "            feed = {inputs_: x,\n",
    "                    labels_: y[:, None],\n",
    "                    keep_prob: 0.5,\n",
    "                    initial_state: state}\n",
    "            loss, state, _ = sess.run([cost, final_state, optimizer], feed_dict=feed)\n",
    "            \n",
    "            if iteration%5==0:\n",
    "                print(\"Epoch: {}/{}\".format(e, epochs),\n",
    "                      \"Iteration: {}\".format(iteration),\n",
    "                      \"Train loss: {:.3f}\".format(loss))\n",
    "\n",
    "            if iteration%25==0:\n",
    "                val_acc = []\n",
    "                val_state = sess.run(cell.zero_state(batch_size, tf.float32))\n",
    "                for x, y in get_batches(val_x, val_y, batch_size):\n",
    "                    feed = {inputs_: x,\n",
    "                            labels_: y[:, None],\n",
    "                            keep_prob: 1,\n",
    "                            initial_state: val_state}\n",
    "                    batch_acc, val_state = sess.run([accuracy, final_state], feed_dict=feed)\n",
    "                    val_acc.append(batch_acc)\n",
    "                print(\"Val acc: {:.3f}\".format(np.mean(val_acc)))\n",
    "            iteration +=1\n",
    "    saver.save(sess, \"checkpoints/sentiment.ckpt\")"
   ]
  },
  {
   "cell_type": "markdown",
   "metadata": {},
   "source": [
    "# Testing"
   ]
  },
  {
   "cell_type": "code",
   "execution_count": 25,
   "metadata": {},
   "outputs": [
    {
     "name": "stdout",
     "output_type": "stream",
     "text": [
      "INFO:tensorflow:Restoring parameters from checkpoints\\sentiment.ckpt\n",
      "Test accuracy: 0.786\n"
     ]
    }
   ],
   "source": [
    "test_acc = []\n",
    "with tf.Session(graph=graph) as sess:\n",
    "    saver.restore(sess, tf.train.latest_checkpoint('checkpoints'))\n",
    "    test_state = sess.run(cell.zero_state(batch_size, tf.float32))\n",
    "    for ii, (x, y) in enumerate(get_batches(test_x, test_y, batch_size), 1):\n",
    "        feed = {inputs_: x,\n",
    "                labels_: y[:, None],\n",
    "                keep_prob: 1,\n",
    "                initial_state: test_state}\n",
    "        batch_acc, test_state = sess.run([accuracy, final_state], feed_dict=feed)\n",
    "        test_acc.append(batch_acc)\n",
    "    print(\"Test accuracy: {:.3f}\".format(np.mean(test_acc)))"
   ]
  },
  {
   "cell_type": "code",
   "execution_count": 48,
   "metadata": {},
   "outputs": [
    {
     "name": "stdout",
     "output_type": "stream",
     "text": [
      "[[8, 14, 845]]\n",
      "(500, 200)\n",
      "INFO:tensorflow:Restoring parameters from checkpoints\\sentiment.ckpt\n",
      "0.45291826\n",
      "NEGATIVE\n"
     ]
    }
   ],
   "source": [
    "test_word = \"i thought it was okay but was awesome\"\n",
    "test_ints = []\n",
    "test_ints.append([vocab_to_int[word] for word in test_word.split()])\n",
    "print(test_ints)\n",
    "\n",
    "seq_len = 200\n",
    "features_test = np.zeros((batch_size, seq_len), dtype=int)\n",
    "for i, row in enumerate(test_ints):\n",
    "    features_test[i,-len(row):] = np.array(row)[:seq_len]\n",
    "print(features_test.shape)\n",
    "    \n",
    "with tf.Session(graph=graph) as sess:\n",
    "    saver.restore(sess, tf.train.latest_checkpoint('checkpoints'))\n",
    "    test_state = sess.run(cell.zero_state(batch_size, tf.float32))\n",
    "    feed = {inputs_: features_test,\n",
    "            keep_prob: 1,\n",
    "            initial_state: test_state}\n",
    "    \n",
    "    predictionsx = np.array(sess.run([predictions],feed_dict=feed))\n",
    "    \n",
    "    #predictionsx = np.array(sess.run([predictions], feed_dict=feed))\n",
    "    predictionsx = np.reshape(predictionsx, [-1])\n",
    "    for pred in predictionsx:\n",
    "        print(pred)\n",
    "        if int(round(pred)) == 1:\n",
    "            print('POSITIVE')            \n",
    "            break\n",
    "        elif int(round(pred)) == 0:\n",
    "            print('NEGATIVE')\n",
    "            break\n",
    "        else:\n",
    "            print('')"
   ]
  },
  {
   "cell_type": "code",
   "execution_count": null,
   "metadata": {},
   "outputs": [],
   "source": []
  }
 ],
 "metadata": {
  "kernelspec": {
   "display_name": "Python [conda env:dog-project]",
   "language": "python",
   "name": "conda-env-dog-project-py"
  },
  "language_info": {
   "codemirror_mode": {
    "name": "ipython",
    "version": 3
   },
   "file_extension": ".py",
   "mimetype": "text/x-python",
   "name": "python",
   "nbconvert_exporter": "python",
   "pygments_lexer": "ipython3",
   "version": "3.5.5"
  }
 },
 "nbformat": 4,
 "nbformat_minor": 2
}
